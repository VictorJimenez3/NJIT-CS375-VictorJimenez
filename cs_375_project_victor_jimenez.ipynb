{
 "cells": [
  {
   "cell_type": "code",
   "execution_count": 1,
   "id": "f1fb6746",
   "metadata": {},
   "outputs": [],
   "source": [
    "#imports for the <i class=\"fas fa-project-diagram    \"></i>\n",
    "#1\n",
    "import pandas as pd\n",
    "\n",
    "#2\n",
    "from sklearn.model_selection import train_test_split\n",
    "from sklearn.preprocessing import StandardScaler\n"
   ]
  },
  {
   "cell_type": "markdown",
   "id": "15349db8",
   "metadata": {},
   "source": [
    "Cleaning the large data set to remove all players that are below 15 minutes per game and make all stats per game. I made all stats per game stats. I didn't put teams, I will add conferences in the future, trying to get the 30 best players for now, might alter this project to ALL NBA TEAMS, and awards instead, as the dataset is better for that, as its a full year dataset."
   ]
  },
  {
   "cell_type": "code",
   "execution_count": null,
   "id": "fcc7e200",
   "metadata": {},
   "outputs": [
    {
     "name": "stderr",
     "output_type": "stream",
     "text": [
      "C:\\Users\\victo\\AppData\\Local\\Temp\\ipykernel_29472\\823274415.py:14: SettingWithCopyWarning: \n",
      "A value is trying to be set on a copy of a slice from a DataFrame.\n",
      "Try using .loc[row_indexer,col_indexer] = value instead\n",
      "\n",
      "See the caveats in the documentation: https://pandas.pydata.org/pandas-docs/stable/user_guide/indexing.html#returning-a-view-versus-a-copy\n",
      "  df_filtered[stat] = df_filtered[stat] / df_filtered[\"GP\"]\n"
     ]
    }
   ],
   "source": [
    "#getting dataset\n",
    "filepath = \"2023_nba_player_stats.csv\"\n",
    "df_original = pd.read_csv(filepath)\n",
    "\n",
    "# Step 1: Compute Minutes Per Game (MPG)\n",
    "df_original[\"MPG\"] = df_original[\"Min\"] / df_original[\"GP\"]\n",
    "\n",
    "# Step 2: Filter out players who averaged less than 15 minutes per game\n",
    "df_filtered = df_original[df_original[\"MPG\"] >= 15]\n",
    "\n",
    "# Step 3: Convert key stats to per-game values (excluding \"+/-\")\n",
    "per_game_stats = [\"PTS\", \"AST\", \"REB\", \"TOV\", \"STL\", \"BLK\"]\n",
    "for stat in per_game_stats:\n",
    "    df_filtered[stat] = df_filtered[stat] / df_filtered[\"GP\"]\n",
    "\n",
    "# Step 4: Drop \"Min\" and select final columns\n",
    "final_columns = [\n",
    "    \"PName\",  # Player name\n",
    "    \"POS\",    # Position\n",
    "    \"GP\",     # Games Played\n",
    "    \"MPG\",    # Minutes per game\n",
    "    \"PTS\",    # Points per game\n",
    "    \"AST\",    # Assists per game\n",
    "    \"REB\",    # Rebounds per game\n",
    "    \"FG%\",    # Field goal %\n",
    "    \"3P%\",    # Three-point %\n",
    "    \"TOV\",    # Turnovers per game\n",
    "    \"STL\",    # Steals per game\n",
    "    \"BLK\",    # Blocks per game\n",
    "    \"+/-\"     # Plus-minus (not per game)\n",
    "]\n",
    "\n",
    "df_final = df_filtered[final_columns]\n",
    "\n",
    "# Save the final cleaned and transformed dataset\n",
    "output_path = \"nba_cleaned_full_pipeline.csv\"  # Make sure the 'data' folder exists\n",
    "df_final.to_csv(output_path, index=False)\n",
    "\n"
   ]
  },
  {
   "cell_type": "markdown",
   "id": "fcb77cb4",
   "metadata": {},
   "source": [
    "Now gonna preprocess the data"
   ]
  },
  {
   "cell_type": "code",
   "execution_count": null,
   "id": "4b8b59e6",
   "metadata": {},
   "outputs": [
    {
     "name": "stdout",
     "output_type": "stream",
     "text": [
      "Train size: 239\n",
      "Validation size: 51\n",
      "Test size: 52\n",
      "Train all-star ratio: 0.063\n",
      "Validation all-star ratio: 0.059\n",
      "Test all-star ratio: 0.077\n"
     ]
    }
   ],
   "source": [
    "#2\n",
    "# Load the dataset\n",
    "df = pd.read_csv(\"nba_cleaned_full_pipeline.csv\")\n",
    "\n",
    "# Create 'is_all_star' column using official 2023 NBA All-Stars\n",
    "all_stars_2023 = [\n",
    "    \"LeBron James\", \"Giannis Antetokounmpo\", \"Stephen Curry\", \"Luka Doncic\", \"Nikola Jokic\",\n",
    "    \"Jayson Tatum\", \"Joel Embiid\", \"Ja Morant\", \"Donovan Mitchell\", \"Lauri Markkanen\",\n",
    "    \"Shai Gilgeous-Alexander\", \"Jaren Jackson Jr.\", \"Domantas Sabonis\", \"Tyrese Haliburton\",\n",
    "    \"De'Aaron Fox\", \"Bam Adebayo\", \"Jrue Holiday\", \"DeMar DeRozan\", \"Jaylen Brown\",\n",
    "    \"Paul George\", \"Pascal Siakam\", \"Anthony Edwards\"\n",
    "]\n",
    "df[\"is_all_star\"] = df[\"PName\"].apply(lambda x: 1 if x in all_stars_2023 else 0) #edit this to make more readable\n",
    "\n",
    "# Drop non-feature columns\n",
    "X = df.drop(columns=[\"PName\", \"POS\", \"is_all_star\"])\n",
    "y = df[\"is_all_star\"]\n",
    "\n",
    "# Train/Validation/Test split (70/15/15), stratified by label\n",
    "X_train, X_temp, y_train, y_temp = train_test_split(X, y, test_size=0.30, random_state=42, stratify=y)\n",
    "X_val, X_test, y_val, y_test = train_test_split(X_temp, y_temp, test_size=0.50, random_state=42, stratify=y_temp)\n",
    "\n",
    "# Scale the features\n",
    "scaler = StandardScaler()\n",
    "X_train = scaler.fit_transform(X_train)\n",
    "X_val = scaler.transform(X_val)\n",
    "X_test = scaler.transform(X_test)\n",
    "\n",
    "# Print basic info\n",
    "print(\"Train size:\", len(X_train))\n",
    "print(\"Validation size:\", len(X_val))\n",
    "print(\"Test size:\", len(X_test))\n",
    "print(\"Train all-star ratio:\", round(y_train.mean(), 3))\n",
    "print(\"Validation all-star ratio:\", round(y_val.mean(), 3))\n",
    "print(\"Test all-star ratio:\", round(y_test.mean(), 3))\n"
   ]
  }
 ],
 "metadata": {
  "kernelspec": {
   "display_name": "Python 3",
   "language": "python",
   "name": "python3"
  },
  "language_info": {
   "codemirror_mode": {
    "name": "ipython",
    "version": 3
   },
   "file_extension": ".py",
   "mimetype": "text/x-python",
   "name": "python",
   "nbconvert_exporter": "python",
   "pygments_lexer": "ipython3",
   "version": "3.12.6"
  }
 },
 "nbformat": 4,
 "nbformat_minor": 5
}
